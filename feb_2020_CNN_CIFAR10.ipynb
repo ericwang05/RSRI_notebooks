{
  "nbformat": 4,
  "nbformat_minor": 0,
  "metadata": {
    "colab": {
      "provenance": []
    },
    "kernelspec": {
      "name": "python3",
      "display_name": "Python 3"
    },
    "accelerator": "GPU"
  },
  "cells": [
    {
      "cell_type": "markdown",
      "metadata": {
        "id": "eM9iAeQotrUw"
      },
      "source": [
        "# A4 Machine Learning: Advanced\n",
        "\n",
        "In this lab, we will provide an interactive application of convolutional neural networks, to classifying images in the CIFAR-10 dataset"
      ]
    },
    {
      "cell_type": "code",
      "metadata": {
        "id": "KrBN3rwBt4bD"
      },
      "source": [
        "from __future__ import print_function\n",
        "import keras\n",
        "from keras.datasets import cifar10\n",
        "from keras.preprocessing.image import ImageDataGenerator\n",
        "from keras.models import Sequential\n",
        "from keras.layers import Dense, Dropout, Activation, Flatten\n",
        "from keras.layers import Conv2D, MaxPooling2D\n",
        "import os\n",
        "\n",
        "# Hyperparameters\n",
        "batch_size = 64\n",
        "num_classes = 10\n",
        "epochs = 15\n",
        "num_predictions = 20\n",
        "save_dir = os.path.join(os.getcwd(), 'saved_models')\n",
        "model_name = 'keras_cifar10_trained_model.h5'"
      ],
      "execution_count": null,
      "outputs": []
    },
    {
      "cell_type": "markdown",
      "metadata": {
        "id": "zZiPPwAVNBh1"
      },
      "source": [
        "\n",
        "\n",
        "\n",
        "Let's first start by loading the data in. We will use the keras CIFAR-10 dataset as a reference. Each piece of data consists of a representation of a image and a label corresponding to the class (type of object) in the image.\n",
        "\n",
        "As we usually do in machine learning, let's separate our data into a subset to **train** on and a subset to **test** on.\n",
        "\n",
        "***Exercise 1:*** Load data in using the imported cifar10 dataset into x_train, y_train, x_test, y_test. What are the dimensions of your train matrix? How many train and test examples do you have?\n",
        "\n",
        "\n"
      ]
    },
    {
      "cell_type": "code",
      "metadata": {
        "id": "FxuBpNjaNA9R"
      },
      "source": [
        "# Load data in using the imported cifar10 dataset\n",
        "# use the variable names x_train, y_train, x_test, y_test\n",
        "(x_train, y_train), (x_test, y_test) = cifar10.load_data()\n",
        "\n",
        "# x_train = x_train.reshape(50000, 3072)\n",
        "# x_test = x_test.reshape(10000, 3072)\n",
        "# x_train = x_train.astype('float32')\n",
        "# x_test = x_test.astype('float32')\n",
        "# x_train /= 255\n",
        "# x_test /= 255\n",
        "# print(x_train.shape[0], 'train samples')\n",
        "# print(x_test.shape[0], 'test samples')"
      ],
      "execution_count": null,
      "outputs": []
    },
    {
      "cell_type": "markdown",
      "metadata": {
        "id": "AOEiWubk1eT-"
      },
      "source": [
        "We can visualize some of the examples in our dataset."
      ]
    },
    {
      "cell_type": "code",
      "metadata": {
        "id": "DhBE7RyJ1gjd",
        "outputId": "8cbb2bf5-0f73-4240-c8d8-0f9ce4aac3e4",
        "colab": {
          "base_uri": "https://localhost:8080/",
          "height": 283
        }
      },
      "source": [
        "import matplotlib.pyplot as plt\n",
        "import numpy as np\n",
        "\n",
        "plt.figure(figsize=(20,4))\n",
        "for index, (image, label) in enumerate(zip(x_train[0:5], y_train[0:5])):\n",
        "    plt.subplot(1, 5, index + 1)\n",
        "    plt.imshow(np.reshape(image, (32,32,3)) )\n",
        "    plt.title('Training: %i\\n' % label, fontsize = 20)"
      ],
      "execution_count": null,
      "outputs": [
        {
          "output_type": "display_data",
          "data": {
            "image/png": "[encoded data removed]",
            "text/plain": [
              "<Figure size 1440x288 with 5 Axes>"
            ]
          },
          "metadata": {
            "tags": []
          }
        }
      ]
    },
    {
      "cell_type": "markdown",
      "metadata": {
        "id": "aMIjPDDcuzG0"
      },
      "source": [
        "We preprocess our labels to convert class vectors to binary class matrices.\n"
      ]
    },
    {
      "cell_type": "code",
      "metadata": {
        "id": "-NOVp4_ow7s5"
      },
      "source": [
        "y_train = keras.utils.to_categorical(y_train, num_classes)\n",
        "y_test = keras.utils.to_categorical(y_test, num_classes)"
      ],
      "execution_count": null,
      "outputs": []
    },
    {
      "cell_type": "markdown",
      "metadata": {
        "id": "WjyEmYyn89tw"
      },
      "source": [
        "Now, we initialize a convolutional neural network.\n",
        "\n",
        "***Exercise 2***: How many layers does this network have? What activation functions are being used? Give a justification for the choice of activation functions.\n",
        "\n"
      ]
    },
    {
      "cell_type": "code",
      "metadata": {
        "id": "iLFsV6diyUF2"
      },
      "source": [
        "from keras.layers import BatchNormalization\n",
        "model = Sequential()\n",
        "model.add(Conv2D(64, (3, 3), padding='same',\n",
        "                 input_shape=x_train.shape[1:]))\n",
        "model.add(Activation('relu'))\n",
        "model.add(BatchNormalization())\n",
        "model.add(Conv2D(64, (4, 4)))\n",
        "model.add(Activation('relu'))\n",
        "model.add(BatchNormalization())\n",
        "model.add(MaxPooling2D(pool_size=(2, 2)))\n",
        "model.add(Dropout(0.25))\n",
        "\n",
        "\n",
        "model.add(Conv2D(64, (5, 5), padding='same'))\n",
        "model.add(Activation('relu'))\n",
        "model.add(BatchNormalization())\n",
        "model.add(Conv2D(64, (6, 6)))\n",
        "model.add(Activation('relu'))\n",
        "model.add(BatchNormalization())\n",
        "model.add(MaxPooling2D(pool_size=(2, 2)))\n",
        "model.add(Dropout(0.2))\n",
        "\n",
        "model.add(Conv2D(64, (7, 7), padding='same'))\n",
        "model.add(Activation('relu'))\n",
        "model.add(BatchNormalization())\n",
        "\n",
        "model.add(Flatten())\n",
        "model.add(Dense(512))\n",
        "model.add(Activation('sigmoid'))\n",
        "model.add(Dropout(0.3))\n",
        "model.add(Dense(num_classes))\n",
        "model.add(Activation('softmax'))\n"
      ],
      "execution_count": null,
      "outputs": []
    },
    {
      "cell_type": "markdown",
      "metadata": {
        "id": "yBmmKDJvzSTy"
      },
      "source": [
        "We now decide how to minimize our loss function (here we use the RMSPropOptimizer)"
      ]
    },
    {
      "cell_type": "code",
      "metadata": {
        "id": "CZFoq84YzXMb"
      },
      "source": [
        "opt = keras.optimizers.rmsprop(lr=0.0001, decay=1e-6)"
      ],
      "execution_count": null,
      "outputs": []
    },
    {
      "cell_type": "markdown",
      "metadata": {
        "id": "p3Jdb9h3zmat"
      },
      "source": [
        "It's now time to train our model:\n",
        "\n",
        "***Exercise 3L*** Fill in the model.fit() command so that it executes with the training, validation data, batch size, and epochs (hint: some of these parameters were defined in the beginning)"
      ]
    },
    {
      "cell_type": "code",
      "metadata": {
        "id": "ba-DxLRFN3Hg",
        "outputId": "4b848b26-6c86-4013-88f4-aa1078c1df5d",
        "colab": {
          "base_uri": "https://localhost:8080/",
          "height": 561
        }
      },
      "source": [
        "model.compile(loss='categorical_crossentropy',\n",
        "              optimizer=opt,\n",
        "              metrics=['accuracy'])\n",
        "\n",
        "x_train = x_train.astype('float32')\n",
        "x_test = x_test.astype('float32')\n",
        "x_train /= 255\n",
        "x_test /= 255\n",
        "\n",
        "# The all important model.fit()\n",
        "model.fit( x_train, y_train,\n",
        "            batch_size=batch_size,\n",
        "            epochs=epochs,\n",
        "            validation_split=0.2,\n",
        "          # fill this in\n",
        "              shuffle=True)"
      ],
      "execution_count": null,
      "outputs": [
        {
          "output_type": "stream",
          "text": [
            "Train on 40000 samples, validate on 10000 samples\n",
            "Epoch 1/15\n",
            "40000/40000 [==============================] - 9s 235us/step - loss: 1.9842 - acc: 0.2606 - val_loss: 1.7320 - val_acc: 0.3620\n",
            "Epoch 2/15\n",
            "40000/40000 [==============================] - 9s 220us/step - loss: 1.6585 - acc: 0.3894 - val_loss: 1.5049 - val_acc: 0.4496\n",
            "Epoch 3/15\n",
            "40000/40000 [==============================] - 9s 219us/step - loss: 1.5140 - acc: 0.4470 - val_loss: 1.4408 - val_acc: 0.4740\n",
            "Epoch 4/15\n",
            "40000/40000 [==============================] - 9s 222us/step - loss: 1.4202 - acc: 0.4833 - val_loss: 1.3436 - val_acc: 0.5135\n",
            "Epoch 5/15\n",
            "40000/40000 [==============================] - 9s 220us/step - loss: 1.3497 - acc: 0.5111 - val_loss: 1.2663 - val_acc: 0.5478\n",
            "Epoch 6/15\n",
            "40000/40000 [==============================] - 9s 224us/step - loss: 1.2782 - acc: 0.5422 - val_loss: 1.2249 - val_acc: 0.5667\n",
            "Epoch 7/15\n",
            "40000/40000 [==============================] - 9s 221us/step - loss: 1.2230 - acc: 0.5635 - val_loss: 1.1627 - val_acc: 0.5879\n",
            "Epoch 8/15\n",
            "40000/40000 [==============================] - 9s 221us/step - loss: 1.1663 - acc: 0.5842 - val_loss: 1.1901 - val_acc: 0.5819\n",
            "Epoch 9/15\n",
            "40000/40000 [==============================] - 9s 222us/step - loss: 1.1208 - acc: 0.6029 - val_loss: 1.0644 - val_acc: 0.6242\n",
            "Epoch 10/15\n",
            "40000/40000 [==============================] - 9s 224us/step - loss: 1.0802 - acc: 0.6176 - val_loss: 1.0229 - val_acc: 0.6366\n",
            "Epoch 11/15\n",
            "40000/40000 [==============================] - 9s 219us/step - loss: 1.0424 - acc: 0.6312 - val_loss: 0.9864 - val_acc: 0.6502\n",
            "Epoch 12/15\n",
            "40000/40000 [==============================] - 9s 222us/step - loss: 1.0058 - acc: 0.6463 - val_loss: 0.9676 - val_acc: 0.6580\n",
            "Epoch 13/15\n",
            "40000/40000 [==============================] - 9s 221us/step - loss: 0.9771 - acc: 0.6552 - val_loss: 0.9275 - val_acc: 0.6721\n",
            "Epoch 14/15\n",
            "40000/40000 [==============================] - 9s 221us/step - loss: 0.9522 - acc: 0.6613 - val_loss: 0.9148 - val_acc: 0.6814\n",
            "Epoch 15/15\n",
            "40000/40000 [==============================] - 9s 225us/step - loss: 0.9232 - acc: 0.6767 - val_loss: 0.9183 - val_acc: 0.6756\n"
          ],
          "name": "stdout"
        },
        {
          "output_type": "execute_result",
          "data": {
            "text/plain": [
              "<keras.callbacks.History at 0x7f448e4059e8>"
            ]
          },
          "metadata": {
            "tags": []
          },
          "execution_count": 14
        }
      ]
    },
    {
      "cell_type": "markdown",
      "metadata": {
        "id": "dasJaVksO9k5"
      },
      "source": [
        "We can make some predictions using our trained model on our test dataset.\n",
        "\n",
        "***Exercise 4:*** In a similar way, after predicting, plot the outputs along with the predictions."
      ]
    },
    {
      "cell_type": "code",
      "metadata": {
        "id": "U6OZhQlwPBXY"
      },
      "source": [
        "preds = model.predict(x_test)"
      ],
      "execution_count": null,
      "outputs": []
    },
    {
      "cell_type": "code",
      "metadata": {
        "id": "R8jxe52Hz6S1",
        "outputId": "d503daa1-b87f-4344-e5aa-1e37c591bb98",
        "colab": {
          "base_uri": "https://localhost:8080/",
          "height": 241
        }
      },
      "source": [
        "# Plot some outputs with the predicted label\n",
        "plt.figure(figsize=(20,4))\n",
        "for index, (image, label) in enumerate(zip(x_test[0:5], preds[0:5])):\n",
        "    plt.subplot(1, 5, index + 1)\n",
        "    plt.imshow(np.reshape(image, (32,32,3)) )"
      ],
      "execution_count": null,
      "outputs": [
        {
          "output_type": "display_data",
          "data": {
            "image/png": "[encoded data removed]",
            "text/plain": [
              "<Figure size 1440x288 with 5 Axes>"
            ]
          },
          "metadata": {
            "tags": []
          }
        }
      ]
    },
    {
      "cell_type": "markdown",
      "metadata": {
        "id": "NQLKnWrWBTZZ"
      },
      "source": [
        "Finally, we can compute our classification accuracy, or the percentage of examples in the test subset classified correctly. The following code snippet computes the accuracy."
      ]
    },
    {
      "cell_type": "code",
      "metadata": {
        "id": "qqwgZxwpBjuY",
        "outputId": "70ea8246-92ce-4412-86ac-54040918a300",
        "colab": {
          "base_uri": "https://localhost:8080/",
          "height": 34
        }
      },
      "source": [
        "# Compute number of examples classified correctly\n",
        "\n",
        "num_correct = 0\n",
        "for i in range(len(preds)):\n",
        "  if np.argmax(preds[i]) == np.argmax(y_test[i]):\n",
        "    num_correct += 1\n",
        "\n",
        "print(\"The fraction of correctly classified examples in the test set is: \" + str(num_correct / len(preds)))"
      ],
      "execution_count": null,
      "outputs": [
        {
          "output_type": "stream",
          "text": [
            "The fraction of correctly classified examples in the test set is: 0.1002\n"
          ],
          "name": "stdout"
        }
      ]
    },
    {
      "cell_type": "markdown",
      "metadata": {
        "id": "MjbAC3cxS5Tf"
      },
      "source": [
        "We can save and score our model\n",
        "\n",
        "***Exercise 5:*** Use model.evaluate to evalute the model.\n"
      ]
    },
    {
      "cell_type": "code",
      "metadata": {
        "id": "k0qmjuSOTIz8",
        "outputId": "27a61c4b-0b90-43ac-bf8d-f10e65353428",
        "colab": {
          "base_uri": "https://localhost:8080/",
          "height": 34
        }
      },
      "source": [
        "# Save model and weights\n",
        "if not os.path.isdir(save_dir):\n",
        "    os.makedirs(save_dir)\n",
        "model_path = os.path.join(save_dir, model_name)\n",
        "model.save(model_path)\n",
        "print('Saved trained model at %s ' % model_path)\n",
        "\n",
        "# Evalute trained model.\n"
      ],
      "execution_count": null,
      "outputs": [
        {
          "output_type": "stream",
          "text": [
            "Saved trained model at /content/saved_models/keras_cifar10_trained_model.h5 \n"
          ],
          "name": "stdout"
        }
      ]
    },
    {
      "cell_type": "markdown",
      "metadata": {
        "id": "hpOHB1IjRAb2"
      },
      "source": [
        "Can you improve this model?\n",
        "\n",
        "First try changing hyperparameters + the architecture on your own.\n",
        "\n",
        "You can also add ***data augmentation*** by visiting [the keras CIFAR-10 code page](https://keras.io/examples/cifar10_cnn/)\n",
        "\n",
        "This model is not optimized. There are many improvments to be made!"
      ]
    }
  ]
}